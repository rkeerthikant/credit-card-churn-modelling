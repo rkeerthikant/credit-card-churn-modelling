{
 "cells": [
  {
   "cell_type": "code",
   "execution_count": null,
   "id": "236dfca7",
   "metadata": {},
   "outputs": [],
   "source": [
    "import pandas as pd\n",
    "import numpy as np \n",
    "import os"
   ]
  }
 ],
 "metadata": {
  "language_info": {
   "name": "python"
  }
 },
 "nbformat": 4,
 "nbformat_minor": 5
}
